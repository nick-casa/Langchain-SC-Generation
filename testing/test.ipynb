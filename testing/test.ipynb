{
 "cells": [
  {
   "cell_type": "code",
   "execution_count": 8,
   "metadata": {},
   "outputs": [],
   "source": [
    "import requests\n",
    "import json"
   ]
  },
  {
   "cell_type": "code",
   "execution_count": 13,
   "metadata": {},
   "outputs": [],
   "source": [
    "base_url = \"http://127.0.0.1:5000\"\n",
    "\n",
    "prompts = [\n",
    "    \"Simple wallet with deposit and withdrawal functionality\",\n",
    "    \"Crowdfunding contract to manage campaigns and fund collection\",\n",
    "    \"ERC20 token creation contract\",\n",
    "    \"Voting system using smart contracts\",\n",
    "    \"Time-locked wallet for delayed fund release\",\n",
    "    \"Decentralized autonomous organization (DAO) setup contract\",\n",
    "    \"Loan agreement smart contract\",\n",
    "    \"Simple marketplace contract for goods exchange\",\n",
    "    \"Contract for managing royalties in digital art sales\",\n",
    "    \"Rent payment contract for property leasing\",\n",
    "    \"Subscription service management contract\",\n",
    "    \"Supply chain tracking contract\",\n",
    "    \"Escrow service contract for secure transactions\",\n",
    "    \"Insurance claim processing contract\",\n",
    "    \"Contract for a decentralized betting system\",\n",
    "    \"Ticket sales and event registration system\",\n",
    "    \"Fractional ownership contract for real estate\",\n",
    "    \"Loyalty points system contract\",\n",
    "    \"Contract for managing intellectual property rights\",\n",
    "    \"Fitness challenge contract rewarding participants\",\n",
    "    \"Automated invoice payment contract\",\n",
    "    \"Contract for binding agreements or notarization\",\n",
    "    \"Pension fund disbursement system\",\n",
    "    \"Contract for decentralized file storage payments\",\n",
    "    \"Energy trading contract for renewable energy credits\",\n",
    "    \"Peer-to-peer lending contract\",\n",
    "    \"Automated charity donation contract\",\n",
    "    \"Multi-signature wallet for enhanced security\",\n",
    "    \"Debt issuance contract for bonds\",\n",
    "    \"Revenue sharing contract\",\n",
    "    \"Sports betting contract\",\n",
    "    \"Contract for decentralized music streaming payments\",\n",
    "    \"Raffle draw contract\",\n",
    "    \"Stablecoin pegging contract\",\n",
    "    \"Job freelancing contract platform\",\n",
    "    \"Contract for managing a decentralized social network\",\n",
    "    \"Dividend distribution contract\",\n",
    "    \"Digital identity verification system\",\n",
    "    \"Environmental credit trading contract\",\n",
    "    \"Tokenized asset management contract\",\n",
    "    \"Automated executor of wills and testaments\",\n",
    "    \"Contract for managing agricultural product traceability\",\n",
    "    \"Automated tax calculation and payment contract\",\n",
    "    \"Contract for a decentralized exchange (DEX)\",\n",
    "    \"Carbon offset trading contract\",\n",
    "    \"Contract for a decentralized library of books\",\n",
    "    \"Travel insurance contract\",\n",
    "    \"Real-time transportation scheduling and payment contract\",\n",
    "    \"Decentralized content creation and monetization platform\",\n",
    "    \"Contract for managing a virtual reality property marketplace\"\n",
    "]\n"
   ]
  },
  {
   "cell_type": "code",
   "execution_count": 14,
   "metadata": {},
   "outputs": [],
   "source": [
    "def send_prompt(prompt):\n",
    "    response = requests.post(\n",
    "        f\"{base_url}/process\",\n",
    "        json={\"prompt\": prompt}\n",
    "    )\n",
    "    if response.status_code == 200:\n",
    "        return response.json()\n",
    "    else:\n",
    "        return {\"error\": f\"Failed with status code {response.status_code}\"}"
   ]
  },
  {
   "cell_type": "code",
   "execution_count": 15,
   "metadata": {},
   "outputs": [],
   "source": [
    "outputs = {}\n",
    "for prompt in prompts:\n",
    "    result = send_prompt(prompt)\n",
    "    outputs[prompt] = result"
   ]
  },
  {
   "cell_type": "code",
   "execution_count": 16,
   "metadata": {},
   "outputs": [
    {
     "name": "stdout",
     "output_type": "stream",
     "text": [
      "Finished processing all prompts.\n"
     ]
    }
   ],
   "source": [
    "# Save the outputs to a JSON file\n",
    "with open(\"smart_contracts_output.json\", \"w\") as file:\n",
    "    json.dump(outputs, file, indent=4)\n",
    "\n",
    "print(\"Finished processing all prompts.\")"
   ]
  },
  {
   "cell_type": "code",
   "execution_count": 28,
   "metadata": {},
   "outputs": [
    {
     "data": {
      "image/png": "[encoded data removed]",
      "text/plain": [
       "<Figure size 640x480 with 1 Axes>"
      ]
     },
     "metadata": {},
     "output_type": "display_data"
    },
    {
     "name": "stdout",
     "output_type": "stream",
     "text": [
      "['ERC20 token creation contract', 'Multi-signature wallet for enhanced security']\n"
     ]
    }
   ],
   "source": [
    "# Graph the results\n",
    "import matplotlib.pyplot as plt\n",
    "\n",
    "# Count the number of successful completions\n",
    "success_count = 0\n",
    "failure_count = 0\n",
    "for prompt, result in outputs.items():\n",
    "    if \"error\" in result:\n",
    "        failure_count += 1\n",
    "    else:\n",
    "        success_count += 1\n",
    "\n",
    "# Create a pie chart\n",
    "labels = [\"Successfully Deployed\", \"Max Retries Reached\"]\n",
    "sizes = [success_count, failure_count]\n",
    "colors = [\"lightgreen\", \"lightcoral\"]\n",
    "#make background transparent\n",
    "plt.figure(facecolor='none')\n",
    "# text color white\n",
    "plt.rcParams['text.color'] = 'white'\n",
    "plt.pie(sizes, labels=labels, colors=colors, autopct=\"%1.1f%%\", startangle=140)\n",
    "plt.axis(\"equal\")\n",
    "plt.title(\"Completion Status of Smart Contract Prompts\")\n",
    "plt.show()\n",
    "\n",
    "# Each output is a dictionary with the following keys\n",
    "# valid_code - boolean indicating if the code is valid\n",
    "# generated_code - the generated code\n",
    "# check_results - the results of the code check\n",
    "# deploy_results - the results of the code deployment\n",
    "\n",
    "# Graph the prompts by success and failure\n",
    "success_prompts = []\n",
    "failure_prompts = []\n",
    "for prompt, result in outputs.items():\n",
    "    if \"error\" in result:\n",
    "        failure_prompts.append(prompt)\n",
    "    else:\n",
    "        success_prompts.append(prompt)\n",
    "\n",
    "print(failure_prompts)"
   ]
  },
  {
   "cell_type": "code",
   "execution_count": null,
   "metadata": {},
   "outputs": [],
   "source": []
  }
 ],
 "metadata": {
  "kernelspec": {
   "display_name": ".venv",
   "language": "python",
   "name": "python3"
  },
  "language_info": {
   "codemirror_mode": {
    "name": "ipython",
    "version": 3
   },
   "file_extension": ".py",
   "mimetype": "text/x-python",
   "name": "python",
   "nbconvert_exporter": "python",
   "pygments_lexer": "ipython3",
   "version": "3.10.9"
  }
 },
 "nbformat": 4,
 "nbformat_minor": 2
}
