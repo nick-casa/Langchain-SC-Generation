{
 "cells": [
  {
   "cell_type": "code",
   "execution_count": 1,
   "metadata": {},
   "outputs": [],
   "source": [
    "import requests\n",
    "import json"
   ]
  },
  {
   "cell_type": "code",
   "execution_count": 2,
   "metadata": {},
   "outputs": [],
   "source": [
    "base_url = \"http://127.0.0.1:5000\"\n",
    "\n",
    "prompts = [\n",
    "    \"Simple wallet with deposit and withdrawal functionality\",\n",
    "    \"Crowdfunding contract to manage campaigns and fund collection\",\n",
    "    \"ERC20 token creation contract\",\n",
    "    \"Voting system using smart contracts\",\n",
    "    \"Time-locked wallet for delayed fund release\",\n",
    "    \"Decentralized autonomous organization (DAO) setup contract\",\n",
    "    \"Loan agreement smart contract\",\n",
    "    \"Simple marketplace contract for goods exchange\",\n",
    "    \"Contract for managing royalties in digital art sales\",\n",
    "    \"Rent payment contract for property leasing\",\n",
    "    \"Subscription service management contract\",\n",
    "    \"Supply chain tracking contract\",\n",
    "    \"Escrow service contract for secure transactions\",\n",
    "    \"Insurance claim processing contract\",\n",
    "    \"Contract for a decentralized betting system\",\n",
    "    \"Ticket sales and event registration system\",\n",
    "    \"Fractional ownership contract for real estate\",\n",
    "    \"Loyalty points system contract\",\n",
    "    \"Contract for managing intellectual property rights\",\n",
    "    \"Fitness challenge contract rewarding participants\",\n",
    "    \"Automated invoice payment contract\",\n",
    "    \"Contract for binding agreements or notarization\",\n",
    "    \"Pension fund disbursement system\",\n",
    "    \"Contract for decentralized file storage payments\",\n",
    "    \"Energy trading contract for renewable energy credits\",\n",
    "    \"Peer-to-peer lending contract\",\n",
    "    \"Automated charity donation contract\",\n",
    "    \"Multi-signature wallet for enhanced security\",\n",
    "    \"Debt issuance contract for bonds\",\n",
    "    \"Revenue sharing contract\",\n",
    "    \"Sports betting contract\",\n",
    "    \"Contract for decentralized music streaming payments\",\n",
    "    \"Raffle draw contract\",\n",
    "    \"Stablecoin pegging contract\",\n",
    "    \"Job freelancing contract platform\",\n",
    "    \"Contract for managing a decentralized social network\",\n",
    "    \"Dividend distribution contract\",\n",
    "    \"Digital identity verification system\",\n",
    "    \"Environmental credit trading contract\",\n",
    "    \"Tokenized asset management contract\",\n",
    "    \"Automated executor of wills and testaments\",\n",
    "    \"Contract for managing agricultural product traceability\",\n",
    "    \"Automated tax calculation and payment contract\",\n",
    "    \"Contract for a decentralized exchange (DEX)\",\n",
    "    \"Carbon offset trading contract\",\n",
    "    \"Contract for a decentralized library of books\",\n",
    "    \"Travel insurance contract\",\n",
    "    \"Real-time transportation scheduling and payment contract\",\n",
    "    \"Decentralized content creation and monetization platform\",\n",
    "    \"Contract for managing a virtual reality property marketplace\"\n",
    "]\n"
   ]
  },
  {
   "cell_type": "code",
   "execution_count": 3,
   "metadata": {},
   "outputs": [],
   "source": [
    "def send_prompt(prompt):\n",
    "    response = requests.post(\n",
    "        f\"{base_url}/process\",\n",
    "        json={\"prompt\": prompt}\n",
    "    )\n",
    "    if response.status_code == 200:\n",
    "        return response.json()\n",
    "    else:\n",
    "        return {\"error\": f\"Failed with status code {response.status_code}\"}"
   ]
  },
  {
   "cell_type": "code",
   "execution_count": 4,
   "metadata": {},
   "outputs": [],
   "source": [
    "outputs = {}\n",
    "for prompt in prompts:\n",
    "    result = send_prompt(prompt)\n",
    "    outputs[prompt] = result"
   ]
  },
  {
   "cell_type": "code",
   "execution_count": 5,
   "metadata": {},
   "outputs": [
    {
     "name": "stdout",
     "output_type": "stream",
     "text": [
      "{'Simple wallet with deposit and withdrawal functionality': {'error': 'Failed with status code 403'}, 'Crowdfunding contract to manage campaigns and fund collection': {'error': 'Failed with status code 403'}, 'ERC20 token creation contract': {'error': 'Failed with status code 403'}, 'Voting system using smart contracts': {'error': 'Failed with status code 403'}, 'Time-locked wallet for delayed fund release': {'error': 'Failed with status code 403'}, 'Decentralized autonomous organization (DAO) setup contract': {'error': 'Failed with status code 403'}, 'Loan agreement smart contract': {'error': 'Failed with status code 403'}, 'Simple marketplace contract for goods exchange': {'error': 'Failed with status code 403'}, 'Contract for managing royalties in digital art sales': {'error': 'Failed with status code 403'}, 'Rent payment contract for property leasing': {'error': 'Failed with status code 403'}, 'Subscription service management contract': {'error': 'Failed with status code 403'}, 'Supply chain tracking contract': {'error': 'Failed with status code 403'}, 'Escrow service contract for secure transactions': {'error': 'Failed with status code 403'}, 'Insurance claim processing contract': {'error': 'Failed with status code 403'}, 'Contract for a decentralized betting system': {'error': 'Failed with status code 403'}, 'Ticket sales and event registration system': {'error': 'Failed with status code 403'}, 'Fractional ownership contract for real estate': {'error': 'Failed with status code 403'}, 'Loyalty points system contract': {'error': 'Failed with status code 403'}, 'Contract for managing intellectual property rights': {'error': 'Failed with status code 403'}, 'Fitness challenge contract rewarding participants': {'error': 'Failed with status code 403'}, 'Automated invoice payment contract': {'error': 'Failed with status code 403'}, 'Contract for binding agreements or notarization': {'error': 'Failed with status code 403'}, 'Pension fund disbursement system': {'error': 'Failed with status code 403'}, 'Contract for decentralized file storage payments': {'error': 'Failed with status code 403'}, 'Energy trading contract for renewable energy credits': {'error': 'Failed with status code 403'}, 'Peer-to-peer lending contract': {'error': 'Failed with status code 403'}, 'Automated charity donation contract': {'error': 'Failed with status code 403'}, 'Multi-signature wallet for enhanced security': {'error': 'Failed with status code 403'}, 'Debt issuance contract for bonds': {'error': 'Failed with status code 403'}, 'Revenue sharing contract': {'error': 'Failed with status code 403'}, 'Sports betting contract': {'error': 'Failed with status code 403'}, 'Contract for decentralized music streaming payments': {'error': 'Failed with status code 403'}, 'Raffle draw contract': {'error': 'Failed with status code 403'}, 'Stablecoin pegging contract': {'error': 'Failed with status code 403'}, 'Job freelancing contract platform': {'error': 'Failed with status code 403'}, 'Contract for managing a decentralized social network': {'error': 'Failed with status code 403'}, 'Dividend distribution contract': {'error': 'Failed with status code 403'}, 'Digital identity verification system': {'error': 'Failed with status code 403'}, 'Environmental credit trading contract': {'error': 'Failed with status code 403'}, 'Tokenized asset management contract': {'error': 'Failed with status code 403'}, 'Automated executor of wills and testaments': {'error': 'Failed with status code 403'}, 'Contract for managing agricultural product traceability': {'error': 'Failed with status code 403'}, 'Automated tax calculation and payment contract': {'error': 'Failed with status code 403'}, 'Contract for a decentralized exchange (DEX)': {'error': 'Failed with status code 403'}, 'Carbon offset trading contract': {'error': 'Failed with status code 403'}, 'Contract for a decentralized library of books': {'error': 'Failed with status code 403'}, 'Travel insurance contract': {'error': 'Failed with status code 403'}, 'Real-time transportation scheduling and payment contract': {'error': 'Failed with status code 403'}, 'Decentralized content creation and monetization platform': {'error': 'Failed with status code 403'}, 'Contract for managing a virtual reality property marketplace': {'error': 'Failed with status code 403'}}\n"
     ]
    }
   ],
   "source": [
    "print(outputs)"
   ]
  },
  {
   "cell_type": "code",
   "execution_count": 6,
   "metadata": {},
   "outputs": [
    {
     "name": "stdout",
     "output_type": "stream",
     "text": [
      "Finished processing all prompts.\n"
     ]
    }
   ],
   "source": [
    "# Save the outputs to a JSON file\n",
    "with open(\"sc_gen_framework.json\", \"w\") as file:\n",
    "    json.dump(outputs, file, indent=4)\n",
    "\n",
    "print(\"Finished processing all prompts.\")"
   ]
  },
  {
   "cell_type": "code",
   "execution_count": 7,
   "metadata": {},
   "outputs": [
    {
     "data": {
      "image/png": "[encoded data removed]",
      "text/plain": [
       "<Figure size 640x480 with 1 Axes>"
      ]
     },
     "metadata": {},
     "output_type": "display_data"
    },
    {
     "name": "stdout",
     "output_type": "stream",
     "text": [
      "['Crowdfunding contract to manage campaigns and fund collection', 'ERC20 token creation contract', 'Contract for managing royalties in digital art sales', 'Multi-signature wallet for enhanced security', 'Dividend distribution contract', 'Tokenized asset management contract', 'Real-time transportation scheduling and payment contract']\n"
     ]
    }
   ],
   "source": [
    "# Graph the results\n",
    "import matplotlib.pyplot as plt\n",
    "\n",
    "# Count the number of successful completions\n",
    "success_count = 0\n",
    "failure_count = 0\n",
    "for prompt, result in outputs.items():\n",
    "    if \"error\" in result:\n",
    "        failure_count += 1\n",
    "    else:\n",
    "        success_count += 1\n",
    "\n",
    "# Create a pie chart\n",
    "labels = [\"Successfully Deployed\", \"Max Retries Reached\"]\n",
    "sizes = [success_count, failure_count]\n",
    "colors = [\"lightgreen\", \"lightcoral\"]\n",
    "#make background transparent\n",
    "plt.figure(facecolor='none')\n",
    "# text color white\n",
    "plt.rcParams['text.color'] = 'white'\n",
    "plt.pie(sizes, labels=labels, colors=colors, autopct=\"%1.1f%%\", startangle=140)\n",
    "plt.axis(\"equal\")\n",
    "plt.title(\"Completion Status of Smart Contract Prompts\")\n",
    "plt.show()\n",
    "\n",
    "# Each output is a dictionary with the following keys\n",
    "# valid_code - boolean indicating if the code is valid\n",
    "# generated_code - the generated code\n",
    "# check_results - the results of the code check\n",
    "# deploy_results - the results of the code deployment\n",
    "\n",
    "# Graph the prompts by success and failure\n",
    "success_prompts = []\n",
    "failure_prompts = []\n",
    "for prompt, result in outputs.items():\n",
    "    if \"error\" in result:\n",
    "        failure_prompts.append(prompt)\n",
    "    else:\n",
    "        success_prompts.append(prompt)\n",
    "\n",
    "print(failure_prompts)"
   ]
  },
  {
   "cell_type": "code",
   "execution_count": null,
   "metadata": {},
   "outputs": [],
   "source": []
  }
 ],
 "metadata": {
  "kernelspec": {
   "display_name": ".venv",
   "language": "python",
   "name": "python3"
  },
  "language_info": {
   "codemirror_mode": {
    "name": "ipython",
    "version": 3
   },
   "file_extension": ".py",
   "mimetype": "text/x-python",
   "name": "python",
   "nbconvert_exporter": "python",
   "pygments_lexer": "ipython3",
   "version": "3.10.9"
  }
 },
 "nbformat": 4,
 "nbformat_minor": 2
}
